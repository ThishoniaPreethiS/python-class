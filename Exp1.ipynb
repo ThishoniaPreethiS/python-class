{
  "nbformat": 4,
  "nbformat_minor": 0,
  "metadata": {
    "colab": {
      "name": "Exp1.ipynb",
      "provenance": [],
      "authorship_tag": "ABX9TyNjxvgFMIC1e7j1qw5UiVgA",
      "include_colab_link": true
    },
    "kernelspec": {
      "name": "python3",
      "display_name": "Python 3"
    }
  },
  "cells": [
    {
      "cell_type": "markdown",
      "metadata": {
        "id": "view-in-github",
        "colab_type": "text"
      },
      "source": [
        "<a href=\"https://colab.research.google.com/github/ThishoniaPreethiS/python-class/blob/main/Exp1.ipynb\" target=\"_parent\"><img src=\"https://colab.research.google.com/assets/colab-badge.svg\" alt=\"Open In Colab\"/></a>"
      ]
    },
    {
      "cell_type": "code",
      "metadata": {
        "colab": {
          "base_uri": "https://localhost:8080/"
        },
        "id": "R6_RYtmBCCCm",
        "outputId": "d4520efe-5bee-442f-ac67-6b6e717abf20"
      },
      "source": [
        "#number of employees-empty list\r\n",
        "salary=[]\r\n",
        "print(\"Adding Employees\")\r\n",
        "n=int(input(\"Enter number of employees\"))"
      ],
      "execution_count": 8,
      "outputs": [
        {
          "output_type": "stream",
          "text": [
            "Adding Employees\n",
            "Enter number of employees3\n"
          ],
          "name": "stdout"
        }
      ]
    },
    {
      "cell_type": "code",
      "metadata": {
        "colab": {
          "base_uri": "https://localhost:8080/"
        },
        "id": "caKHB9CjCXFG",
        "outputId": "7fc1bcc5-d410-4404-cf42-07ed20eda751"
      },
      "source": [
        "#salary details\r\n",
        "for i in range(n):\r\n",
        "    print(\"Enter monthly salary of Employee{} Rs.:\".format(i+1))\r\n",
        "    sal=int(input())\r\n",
        "    salary.append(sal)\r\n",
        "print(\"****Printing the list****\")\r\n",
        "print(salary)"
      ],
      "execution_count": 9,
      "outputs": [
        {
          "output_type": "stream",
          "text": [
            "Enter monthly salary of Employee1 Rs.:\n",
            "50000\n",
            "Enter monthly salary of Employee2 Rs.:\n",
            "60000\n",
            "Enter monthly salary of Employee3 Rs.:\n",
            "150000\n",
            "****Printing the list****\n",
            "[50000, 60000, 150000]\n"
          ],
          "name": "stdout"
        }
      ]
    },
    {
      "cell_type": "code",
      "metadata": {
        "colab": {
          "base_uri": "https://localhost:8080/"
        },
        "id": "el_NSnJbDE_0",
        "outputId": "91520390-cf2b-403c-afdd-37ddb67bade3"
      },
      "source": [
        "#inserting value in list\r\n",
        "salary.insert(3,170000)\r\n",
        "print(salary)"
      ],
      "execution_count": 10,
      "outputs": [
        {
          "output_type": "stream",
          "text": [
            "[50000, 60000, 150000, 170000]\n"
          ],
          "name": "stdout"
        }
      ]
    },
    {
      "cell_type": "code",
      "metadata": {
        "colab": {
          "base_uri": "https://localhost:8080/"
        },
        "id": "LQ4vrQsNJNIF",
        "outputId": "4faef336-9b3a-45e0-9e17-5be2ffd3cf5b"
      },
      "source": [
        "print(len(salary))"
      ],
      "execution_count": 11,
      "outputs": [
        {
          "output_type": "stream",
          "text": [
            "4\n"
          ],
          "name": "stdout"
        }
      ]
    },
    {
      "cell_type": "code",
      "metadata": {
        "colab": {
          "base_uri": "https://localhost:8080/"
        },
        "id": "qGAde1YxJQZU",
        "outputId": "5e58522d-baa8-4684-d2e8-0e0cd4766915"
      },
      "source": [
        "for j in range(len(salary)):\r\n",
        "  annual_salary=salary[j]*12\r\n",
        "  print(\"Annual Salary of Employee{} is Rs:{}\".format(j+1,annual_salary))"
      ],
      "execution_count": 12,
      "outputs": [
        {
          "output_type": "stream",
          "text": [
            "Annual Salary of Employee1 is Rs:600000\n",
            "Annual Salary of Employee2 is Rs:720000\n",
            "Annual Salary of Employee3 is Rs:1800000\n",
            "Annual Salary of Employee4 is Rs:2040000\n"
          ],
          "name": "stdout"
        }
      ]
    },
    {
      "cell_type": "code",
      "metadata": {
        "colab": {
          "base_uri": "https://localhost:8080/"
        },
        "id": "szO4kMOWLYcn",
        "outputId": "657b4aca-1744-4a2f-d533-6876767b07ff"
      },
      "source": [
        "#min sal\r\n",
        "print(\"min sal is Rs\",min(salary))\r\n"
      ],
      "execution_count": 15,
      "outputs": [
        {
          "output_type": "stream",
          "text": [
            "min sal is Rs 50000\n"
          ],
          "name": "stdout"
        }
      ]
    },
    {
      "cell_type": "code",
      "metadata": {
        "colab": {
          "base_uri": "https://localhost:8080/"
        },
        "id": "VSHqZJ4UMH_1",
        "outputId": "34837730-dee9-4b72-b6e3-e874b10fec20"
      },
      "source": [
        "#max sal\r\n",
        "print(\"max sal is Rs\",max(salary))"
      ],
      "execution_count": 16,
      "outputs": [
        {
          "output_type": "stream",
          "text": [
            "max sal is Rs 170000\n"
          ],
          "name": "stdout"
        }
      ]
    },
    {
      "cell_type": "code",
      "metadata": {
        "colab": {
          "base_uri": "https://localhost:8080/"
        },
        "id": "u-4o_bS9My_g",
        "outputId": "de96f03a-c896-4fec-ab71-29976ef11098"
      },
      "source": [
        "#sort sal\r\n",
        "print(\"sorted sal is Rs\",sorted(salary))\r\n"
      ],
      "execution_count": 19,
      "outputs": [
        {
          "output_type": "stream",
          "text": [
            "sorted sal is Rs [50000, 60000, 150000, 170000]\n"
          ],
          "name": "stdout"
        }
      ]
    },
    {
      "cell_type": "code",
      "metadata": {
        "colab": {
          "base_uri": "https://localhost:8080/"
        },
        "id": "6-xS35ybOAi4",
        "outputId": "0e070339-91a6-4688-a039-c2da3a62f8cb"
      },
      "source": [
        "count=0\r\n",
        "for i in range(0,5):\r\n",
        "  count=count+1\r\n",
        "print(salary)"
      ],
      "execution_count": 20,
      "outputs": [
        {
          "output_type": "stream",
          "text": [
            "[50000, 60000, 150000, 170000]\n"
          ],
          "name": "stdout"
        }
      ]
    },
    {
      "cell_type": "code",
      "metadata": {
        "colab": {
          "base_uri": "https://localhost:8080/"
        },
        "id": "muxjaap8Pief",
        "outputId": "22c2d050-8829-408e-9d80-c249dc709a89"
      },
      "source": [
        "del salary[2]\r\n",
        "print(salary)"
      ],
      "execution_count": 22,
      "outputs": [
        {
          "output_type": "stream",
          "text": [
            "[50000, 60000]\n"
          ],
          "name": "stdout"
        }
      ]
    },
    {
      "cell_type": "code",
      "metadata": {
        "colab": {
          "base_uri": "https://localhost:8080/"
        },
        "id": "qXPogSylR8A5",
        "outputId": "c2ef8da8-ccac-468e-e274-3cd61da1a941"
      },
      "source": [
        "count=0\r\n",
        "if annual_salary>100000:\r\n",
        "  count=count+1\r\n",
        "print(\"{} out of {} emp earn more than 1lpa\".format(count,n))\r\n",
        "\r\n"
      ],
      "execution_count": 25,
      "outputs": [
        {
          "output_type": "stream",
          "text": [
            "1 out of 3 emp earn more than 1lpa\n"
          ],
          "name": "stdout"
        }
      ]
    }
  ]
}