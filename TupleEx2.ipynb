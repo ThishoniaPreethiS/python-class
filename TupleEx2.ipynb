{
  "nbformat": 4,
  "nbformat_minor": 0,
  "metadata": {
    "colab": {
      "name": "TupleEx2.ipynb",
      "provenance": [],
      "authorship_tag": "ABX9TyPUED6TOagzXmS+dGOhOIap",
      "include_colab_link": true
    },
    "kernelspec": {
      "name": "python3",
      "display_name": "Python 3"
    }
  },
  "cells": [
    {
      "cell_type": "markdown",
      "metadata": {
        "id": "view-in-github",
        "colab_type": "text"
      },
      "source": [
        "<a href=\"https://colab.research.google.com/github/ThishoniaPreethiS/python-class/blob/main/TupleEx2.ipynb\" target=\"_parent\"><img src=\"https://colab.research.google.com/assets/colab-badge.svg\" alt=\"Open In Colab\"/></a>"
      ]
    },
    {
      "cell_type": "code",
      "metadata": {
        "id": "HhapWXLvP0KT"
      },
      "source": [
        "# a)tuple to create list of core subjects\r\n",
        "core=(\"Python\",\"Data Analytics\",\"Tableau\",\"Human Resource Management\")"
      ],
      "execution_count": 2,
      "outputs": []
    },
    {
      "cell_type": "code",
      "metadata": {
        "id": "8mGgTMrqQkjk"
      },
      "source": [
        "# b)tuple to create elective subjects\r\n",
        "elect=(\"Power BI\",\"R\",\"SAS\",\"Excel\",\"Robotics\")"
      ],
      "execution_count": 3,
      "outputs": []
    },
    {
      "cell_type": "code",
      "metadata": {
        "colab": {
          "base_uri": "https://localhost:8080/"
        },
        "id": "0uPLLNtMRGev",
        "outputId": "be200bff-6d38-4733-d0a7-744eba9c2de7"
      },
      "source": [
        "# c)List the number of core subjects chosen by John\r\n",
        "print(\"The number core subjects opted by Mr.John are\",len(core))"
      ],
      "execution_count": 4,
      "outputs": [
        {
          "output_type": "stream",
          "text": [
            "The number core subjects opted by John are 4\n"
          ],
          "name": "stdout"
        }
      ]
    },
    {
      "cell_type": "code",
      "metadata": {
        "colab": {
          "base_uri": "https://localhost:8080/"
        },
        "id": "Tn4puQvkRee_",
        "outputId": "7e85da24-cd8a-4416-b3c2-bb6aa88aafef"
      },
      "source": [
        "# d)List of core subjects chosen by John\r\n",
        "print(\"The core subjects opted by Mr.John are\")\r\n",
        "print(\"-----------------------------------------\")\r\n",
        "for i in core:\r\n",
        "  print(i)\r\n",
        "print(\"-----------------------------------------\")"
      ],
      "execution_count": 7,
      "outputs": [
        {
          "output_type": "stream",
          "text": [
            "The core subjects opted by Mr.John are\n",
            "-----------------------------------------\n",
            "Python\n",
            "Data Analytics\n",
            "Tableau\n",
            "Human Resource Management\n",
            "-----------------------------------------\n"
          ],
          "name": "stdout"
        }
      ]
    },
    {
      "cell_type": "code",
      "metadata": {
        "colab": {
          "base_uri": "https://localhost:8080/"
        },
        "id": "NIj6cTx0SsJI",
        "outputId": "d3457f32-0cfe-46e5-9e02-329a6fd07732"
      },
      "source": [
        "# e)Print all the number of available electives\r\n",
        "print(\"The number core subjects opted by Mr.John are\",len(elect))"
      ],
      "execution_count": 8,
      "outputs": [
        {
          "output_type": "stream",
          "text": [
            "The number core subjects opted by Mr.John are 5\n"
          ],
          "name": "stdout"
        }
      ]
    },
    {
      "cell_type": "code",
      "metadata": {
        "colab": {
          "base_uri": "https://localhost:8080/"
        },
        "id": "F0BT6PzJTIDF",
        "outputId": "3119c4d0-2910-4029-a5eb-9bf9699e688d"
      },
      "source": [
        "# f)Print the list of elective subjects\r\n",
        "print(\"The elective subjects are\")\r\n",
        "print(\"-----------------------------------------\")\r\n",
        "for i in elect:\r\n",
        "  print(i)\r\n",
        "print(\"-----------------------------------------\")"
      ],
      "execution_count": 9,
      "outputs": [
        {
          "output_type": "stream",
          "text": [
            "The elective subjects are\n",
            "-----------------------------------------\n",
            "Power BI\n",
            "R\n",
            "SAS\n",
            "Excel\n",
            "Robotics\n",
            "-----------------------------------------\n"
          ],
          "name": "stdout"
        }
      ]
    },
    {
      "cell_type": "code",
      "metadata": {
        "colab": {
          "base_uri": "https://localhost:8080/"
        },
        "id": "c1egudCcUmyS",
        "outputId": "0b8c860c-0da5-4805-d5fe-618acf6f83ba"
      },
      "source": [
        "# g)He chooses two electives.Get imput and display\r\n",
        "elec1=input(\"Enter name of first elective from the list \")\r\n",
        "elec2=input(\"Enter name of first elective from the list \")\r\n",
        "if elec1 not in elect or elec2 not in elect:\r\n",
        "  print (\"Not found\")\r\n",
        "else:\r\n",
        " elec=(elec1,elec2)\r\n",
        " print(elec)"
      ],
      "execution_count": 18,
      "outputs": [
        {
          "output_type": "stream",
          "text": [
            "Enter name of first elective from the list R\n",
            "Enter name of first elective from the list SAS\n",
            "('R', 'SAS')\n"
          ],
          "name": "stdout"
        }
      ]
    },
    {
      "cell_type": "code",
      "metadata": {
        "colab": {
          "base_uri": "https://localhost:8080/"
        },
        "id": "JPwlEpaHVGSK",
        "outputId": "e9816321-c939-4304-ee7a-e0404d49d448"
      },
      "source": [
        "# h)List the electives chosen by John\r\n",
        "print(\"The elective subjects chosen by John are\")\r\n",
        "print(\"-----------------------------------------\")\r\n",
        "for i in elec:\r\n",
        "  print(i)\r\n",
        "print(\"-----------------------------------------\")\r\n"
      ],
      "execution_count": 12,
      "outputs": [
        {
          "output_type": "stream",
          "text": [
            "The elective subjects chosen by John are\n",
            "-----------------------------------------\n",
            "SAS\n",
            "R\n",
            "-----------------------------------------\n"
          ],
          "name": "stdout"
        }
      ]
    },
    {
      "cell_type": "code",
      "metadata": {
        "colab": {
          "base_uri": "https://localhost:8080/"
        },
        "id": "-2vSceYUVene",
        "outputId": "ebc954e3-cde4-4082-96f1-fc6923102745"
      },
      "source": [
        "# i)All subjects chosen by John\r\n",
        "total=core+elec\r\n",
        "print(\"Total subjects chosen by John are\" ,len(total))\r\n",
        "print(\"The subjects chosen by John are\")\r\n",
        "print(\"-----------------------------------------\")\r\n",
        "for i in total:\r\n",
        " print(i)\r\n",
        "print(\"-----------------------------------------\")"
      ],
      "execution_count": 20,
      "outputs": [
        {
          "output_type": "stream",
          "text": [
            "Total subjects chosen by John are 6\n",
            "The subjects chosen by John are\n",
            "-----------------------------------------\n",
            "Python\n",
            "Data Analytics\n",
            "Tableau\n",
            "Human Resource Management\n",
            "R\n",
            "SAS\n",
            "-----------------------------------------\n"
          ],
          "name": "stdout"
        }
      ]
    },
    {
      "cell_type": "code",
      "metadata": {
        "colab": {
          "base_uri": "https://localhost:8080/"
        },
        "id": "fFuvw1GWX3sK",
        "outputId": "d4447ef0-2179-4661-d7d0-2df51e672eff"
      },
      "source": [
        "# j)Read marks and store in a tuple\r\n",
        "m1=int(input(\"Enter mark1 \"))\r\n",
        "m2=int(input(\"Enter mark2 \"))\r\n",
        "m3=int(input(\"Enter mark3 \"))\r\n",
        "m4=int(input(\"Enter mark4 \"))\r\n",
        "m5=int(input(\"Enter mark5 \"))\r\n",
        "m6=int(input(\"Enter mark6 9\"))\r\n",
        "marks=(m1,m2,m3,m4,m5,m6)\r\n",
        "print(\"----------------------\")\r\n",
        "print(marks)990"
      ],
      "execution_count": 23,
      "outputs": [
        {
          "output_type": "stream",
          "text": [
            "Enter mark1 100\n",
            "Enter mark2 0\n",
            "Enter mark3 90\n",
            "Enter mark4 90\n",
            "Enter mark5 100\n",
            "Enter mark6 990\n",
            "----------------------\n",
            "(100, 0, 90, 90, 100, 90)\n"
          ],
          "name": "stdout"
        }
      ]
    },
    {
      "cell_type": "code",
      "metadata": {
        "colab": {
          "base_uri": "https://localhost:8080/"
        },
        "id": "GXX88S7IYo3E",
        "outputId": "7c91c36e-0f31-4900-cf32-6cf96105d161"
      },
      "source": [
        "# k)Print marks scored by John in each subject\r\n",
        "for i in range(0,len(total)):\r\n",
        " print(total[i],end=\"=\")\r\n",
        " print(marks[i])\r\n",
        "print(\"------------------------\")"
      ],
      "execution_count": 28,
      "outputs": [
        {
          "output_type": "stream",
          "text": [
            "Python=100\n",
            "Data Analytics=0\n",
            "Tableau=90\n",
            "Human Resource Management=90\n",
            "R=100\n",
            "SAS=90\n",
            "------------------------\n"
          ],
          "name": "stdout"
        }
      ]
    },
    {
      "cell_type": "code",
      "metadata": {
        "colab": {
          "base_uri": "https://localhost:8080/"
        },
        "id": "5lGH2kBRZeDH",
        "outputId": "00766871-61b6-4632-88fd-0b8cd94f5404"
      },
      "source": [
        "# l)Find max and min mark\r\n",
        "print(\"Maximum mark scored is \",max(marks))\r\n",
        "print(\"Minimum mark scored is \",min(marks))"
      ],
      "execution_count": 27,
      "outputs": [
        {
          "output_type": "stream",
          "text": [
            "Maximum mark scored is  100\n",
            "Minimum mark scored is  0\n"
          ],
          "name": "stdout"
        }
      ]
    }
  ]
}